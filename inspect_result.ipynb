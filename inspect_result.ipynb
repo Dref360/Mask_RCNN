{
 "cells": [
  {
   "cell_type": "code",
   "execution_count": 1,
   "metadata": {
    "collapsed": true
   },
   "outputs": [
    {
     "name": "stdout",
     "output_type": "stream",
     "text": [
      "Using matplotlib backend: Qt4Agg\n"
     ]
    }
   ],
   "source": [
    "import pickle\n",
    "import cv2\n",
    "import matplotlib.pyplot as plt\n",
    "%matplotlib"
   ]
  },
  {
   "cell_type": "code",
   "execution_count": 2,
   "metadata": {},
   "outputs": [],
   "source": [
    "results = pickle.load(open('result.pkl','rb'))"
   ]
  },
  {
   "cell_type": "code",
   "execution_count": 3,
   "metadata": {},
   "outputs": [
    {
     "name": "stdout",
     "output_type": "stream",
     "text": [
      "dict_keys(['image_id', 'score', 'segmentation', 'category_id', 'bbox'])\n[245, 83, 45, 21]\n/data/mio_tcd_seg/images/00110593.jpg\n0.967854\n2\n1171\n(228, 342)\n"
     ]
    },
    {
     "data": {
      "text/plain": [
       "<matplotlib.image.AxesImage at 0x7f2888aaa438>"
      ]
     },
     "execution_count": 3,
     "metadata": {},
     "output_type": "execute_result"
    }
   ],
   "source": [
    "print(results[0].keys())\n",
    "print(results[0]['bbox'])\n",
    "print(results[0]['image_id'])\n",
    "print(results[0]['score'])\n",
    "print(results[0]['category_id'])\n",
    "print(len(results))\n",
    "print(results[0]['segmentation'].shape)\n",
    "\n",
    "im = cv2.imread(results[0]['image_id'])\n",
    "x1,y1,w,h = results[0]['bbox']\n",
    "cv2.rectangle(im,(x1,y1),(x1+w,y1+h),(255,0,0),1)\n",
    "plt.imshow(results[0]['segmentation'])"
   ]
  },
  {
   "cell_type": "code",
   "execution_count": 4,
   "metadata": {},
   "outputs": [
    {
     "name": "stdout",
     "output_type": "stream",
     "text": [
      "('00110593', 'car', 0.96785361, 245, 83, 290, 104)\n"
     ]
    }
   ],
   "source": [
    "classes = [\"articulated_truck\", \"bicycle\", \"bus\", \"car\", \"motorcycle\",\n",
    "               \"non-motorized_vehicle\", \"motorized_vehicle\",\n",
    "               \"pedestrian\", \"pickup_truck\", \"single_unit_truck\", \"work_van\"]\n",
    "acc = []\n",
    "for v in results:\n",
    "    x1,y1,w,h = v['bbox']\n",
    "    f = v['image_id'].split('/')[-1][:-4]\n",
    "    sc = v['score']\n",
    "    cls = classes[v['category_id']+1]\n",
    "    acc.append((f,cls,sc,x1,y1,x1+w,y1+h))\n",
    "print(acc[0])\n",
    "with open('result.csv','w') as f:\n",
    "    f.writelines([','.join([str(k1) for k1 in k]) + '\\n' for k in acc])"
   ]
  },
  {
   "cell_type": "code",
   "execution_count": 5,
   "metadata": {},
   "outputs": [],
   "source": [
    "from collections import defaultdict\n",
    "data = defaultdict(list)\n",
    "for v in results:\n",
    "    x1,y1,w,h = v['bbox']\n",
    "    f = v['image_id'].split('/')[-1][:-4]\n",
    "    sc = v['score']\n",
    "    cls = classes[v['category_id']]\n",
    "    data[v['image_id']].append((cls,sc,x1,y1,x1+w,y1+h))"
   ]
  },
  {
   "cell_type": "code",
   "execution_count": 6,
   "metadata": {},
   "outputs": [],
   "source": [
    "for k,v in data.items():\n",
    "    im = cv2.imread(k)\n",
    "    for cls,sc,x1,y1,x2,y2 in v:\n",
    "        cv2.rectangle(im,(x1,y1),(x2,y2),(255,0,0),1)\n",
    "    cv2.imshow('lol',im)\n",
    "    cv2.waitKey(5000)"
   ]
  }
 ],
 "metadata": {
  "kernelspec": {
   "display_name": "Python 2",
   "language": "python",
   "name": "python2"
  },
  "language_info": {
   "codemirror_mode": {
    "name": "ipython",
    "version": 2.0
   },
   "file_extension": ".py",
   "mimetype": "text/x-python",
   "name": "python",
   "nbconvert_exporter": "python",
   "pygments_lexer": "ipython2",
   "version": "2.7.6"
  }
 },
 "nbformat": 4,
 "nbformat_minor": 0
}
