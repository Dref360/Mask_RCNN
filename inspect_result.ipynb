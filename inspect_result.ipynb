{
 "cells": [
  {
   "cell_type": "code",
   "execution_count": 1,
   "metadata": {
    "collapsed": true
   },
   "outputs": [],
   "source": [
    "import pickle\n",
    "import cv2\n",
    "import matplotlib.pyplot as plt\n",
    "%matplotlib inline\n",
    "import numpy as np"
   ]
  },
  {
   "cell_type": "code",
   "execution_count": 2,
   "metadata": {},
   "outputs": [],
   "source": [
    "results = pickle.load(open('/data/Mask_RCNN/result.pkl','rb'))"
   ]
  },
  {
   "cell_type": "code",
   "execution_count": 3,
   "metadata": {},
   "outputs": [
    {
     "name": "stdout",
     "output_type": "stream",
     "text": [
      "dict_keys(['score', 'image_id', 'bbox', 'category_id', 'segmentation'])\n[245, 81, 47, 25]\n/data/mio_tcd_seg/images/00110593.jpg\n0.993715\n2\n1443\n(228, 342)\n"
     ]
    },
    {
     "data": {
      "text/plain": [
       "<matplotlib.image.AxesImage at 0x7f4a020c59b0>"
      ]
     },
     "execution_count": 3,
     "metadata": {},
     "output_type": "execute_result"
    },
    {
     "data": {
      "image/png": "[encoded data removed]",
      "text/plain": [
       "<matplotlib.figure.Figure at 0x7f4a02013780>"
      ]
     },
     "metadata": {},
     "output_type": "display_data"
    }
   ],
   "source": [
    "print(results[0].keys())\n",
    "print(results[0]['bbox'])\n",
    "print(results[0]['image_id'])\n",
    "print(results[0]['score'])\n",
    "print(results[0]['category_id'])\n",
    "print(len(results))\n",
    "print(results[0]['segmentation'].shape)\n",
    "\n",
    "im = cv2.imread(results[0]['image_id'])\n",
    "x1,y1,w,h = results[0]['bbox']\n",
    "cv2.rectangle(im,(x1,y1),(x1+w,y1+h),(255,0,0),1)\n",
    "plt.imshow(results[0]['segmentation'])"
   ]
  },
  {
   "cell_type": "code",
   "execution_count": 4,
   "metadata": {},
   "outputs": [
    {
     "name": "stdout",
     "output_type": "stream",
     "text": [
      "('00110593', 'car', 0.99371475, 245, 81, 292, 106, array([[0, 0, 0, ..., 0, 0, 0],\n       [0, 0, 0, ..., 0, 0, 0],\n       [0, 0, 0, ..., 0, 0, 0],\n       ..., \n       [0, 0, 0, ..., 0, 0, 0],\n       [0, 0, 0, ..., 0, 0, 0],\n       [0, 0, 0, ..., 0, 0, 0]], dtype=uint8))\n"
     ]
    }
   ],
   "source": [
    "classes = [\"articulated_truck\", \"bicycle\", \"bus\", \"car\", \"motorcycle\",\n",
    "               \"non-motorized_vehicle\", \"motorized_vehicle\",\n",
    "               \"pedestrian\", \"pickup_truck\", \"single_unit_truck\", \"work_van\"]\n",
    "acc = []\n",
    "for v in results:\n",
    "    x1,y1,w,h = v['bbox']\n",
    "    f = v['image_id'].split('/')[-1][:-4]\n",
    "    sc = v['score']\n",
    "    cls = classes[v['category_id']+1]\n",
    "    seg = v['segmentation']\n",
    "    acc.append((f,cls,sc,x1,y1,x1+w,y1+h,seg))\n",
    "print(acc[0])\n",
    "with open('result.csv','w') as f:\n",
    "    f.writelines([','.join([str(k1) for k1 in k[:-1]]) + '\\n' for k in acc])"
   ]
  },
  {
   "cell_type": "code",
   "execution_count": 5,
   "metadata": {},
   "outputs": [],
   "source": [
    "from collections import defaultdict\n",
    "data = defaultdict(list)\n",
    "for v in results:\n",
    "    x1,y1,w,h = v['bbox']\n",
    "    f = v['image_id'].split('/')[-1][:-4]\n",
    "    sc = v['score']\n",
    "    cls = classes[v['category_id']+1]\n",
    "    seg = v['segmentation']\n",
    "    data[v['image_id']].append((cls,sc,x1,y1,x1+w,y1+h,seg))"
   ]
  },
  {
   "cell_type": "code",
   "execution_count": 6,
   "metadata": {
    "collapsed": true
   },
   "outputs": [
    {
     "ename": "NameError",
     "evalue": "name 'e' is not defined",
     "traceback": [
      "\u001b[0;31m---------------------------------------------------------------------------\u001b[0m",
      "\u001b[0;31mKeyboardInterrupt\u001b[0m                         Traceback (most recent call last)",
      "\u001b[0;32m<ipython-input-6-4b2a239e3454>\u001b[0m in \u001b[0;36m<module>\u001b[0;34m()\u001b[0m\n\u001b[1;32m     13\u001b[0m         \u001b[0mcv2\u001b[0m\u001b[0;34m.\u001b[0m\u001b[0mimwrite\u001b[0m\u001b[0;34m(\u001b[0m\u001b[0mpjoin\u001b[0m\u001b[0;34m(\u001b[0m\u001b[0;34m\"/data/Mask_RCNN/output\"\u001b[0m\u001b[0;34m,\u001b[0m\u001b[0mk\u001b[0m\u001b[0;34m.\u001b[0m\u001b[0msplit\u001b[0m\u001b[0;34m(\u001b[0m\u001b[0;34m'/'\u001b[0m\u001b[0;34m)\u001b[0m\u001b[0;34m[\u001b[0m\u001b[0;34m-\u001b[0m\u001b[0;36m1\u001b[0m\u001b[0;34m]\u001b[0m\u001b[0;34m)\u001b[0m\u001b[0;34m,\u001b[0m \u001b[0mim\u001b[0m\u001b[0;34m)\u001b[0m\u001b[0;34m\u001b[0m\u001b[0m\n\u001b[0;32m---> 14\u001b[0;31m         \u001b[0mcv2\u001b[0m\u001b[0;34m.\u001b[0m\u001b[0mwaitKey\u001b[0m\u001b[0;34m(\u001b[0m\u001b[0;36m1000\u001b[0m\u001b[0;34m)\u001b[0m\u001b[0;34m\u001b[0m\u001b[0m\n\u001b[0m\u001b[1;32m     15\u001b[0m \u001b[0;32mexcept\u001b[0m \u001b[0me\u001b[0m\u001b[0;34m:\u001b[0m\u001b[0;34m\u001b[0m\u001b[0m\n",
      "\u001b[0;31mKeyboardInterrupt\u001b[0m: ",
      "\nDuring handling of the above exception, another exception occurred:\n",
      "\u001b[0;31mNameError\u001b[0m                                 Traceback (most recent call last)",
      "\u001b[0;32m<ipython-input-6-4b2a239e3454>\u001b[0m in \u001b[0;36m<module>\u001b[0;34m()\u001b[0m\n\u001b[1;32m     13\u001b[0m         \u001b[0mcv2\u001b[0m\u001b[0;34m.\u001b[0m\u001b[0mimwrite\u001b[0m\u001b[0;34m(\u001b[0m\u001b[0mpjoin\u001b[0m\u001b[0;34m(\u001b[0m\u001b[0;34m\"/data/Mask_RCNN/output\"\u001b[0m\u001b[0;34m,\u001b[0m\u001b[0mk\u001b[0m\u001b[0;34m.\u001b[0m\u001b[0msplit\u001b[0m\u001b[0;34m(\u001b[0m\u001b[0;34m'/'\u001b[0m\u001b[0;34m)\u001b[0m\u001b[0;34m[\u001b[0m\u001b[0;34m-\u001b[0m\u001b[0;36m1\u001b[0m\u001b[0;34m]\u001b[0m\u001b[0;34m)\u001b[0m\u001b[0;34m,\u001b[0m \u001b[0mim\u001b[0m\u001b[0;34m)\u001b[0m\u001b[0;34m\u001b[0m\u001b[0m\n\u001b[1;32m     14\u001b[0m         \u001b[0mcv2\u001b[0m\u001b[0;34m.\u001b[0m\u001b[0mwaitKey\u001b[0m\u001b[0;34m(\u001b[0m\u001b[0;36m1000\u001b[0m\u001b[0;34m)\u001b[0m\u001b[0;34m\u001b[0m\u001b[0m\n\u001b[0;32m---> 15\u001b[0;31m \u001b[0;32mexcept\u001b[0m \u001b[0me\u001b[0m\u001b[0;34m:\u001b[0m\u001b[0;34m\u001b[0m\u001b[0m\n\u001b[0m\u001b[1;32m     16\u001b[0m     \u001b[0mprint\u001b[0m\u001b[0;34m(\u001b[0m\u001b[0me\u001b[0m\u001b[0;34m)\u001b[0m\u001b[0;34m\u001b[0m\u001b[0m\n\u001b[1;32m     17\u001b[0m     \u001b[0;32mpass\u001b[0m\u001b[0;34m\u001b[0m\u001b[0m\n",
      "\u001b[0;31mNameError\u001b[0m: name 'e' is not defined"
     ],
     "output_type": "error"
    }
   ],
   "source": [
    "import os\n",
    "pjoin = os.path.join\n",
    "try:\n",
    "    for k,v in data.items():\n",
    "        im = cv2.imread(k)\n",
    "        seg_im = np.zeros_like(im)\n",
    "        for cls,sc,x1,y1,x2,y2,seg in v:\n",
    "            seg_im[:,:,2] += seg\n",
    "            cv2.rectangle(im,(x1,y1),(x2,y2),(255,0,0),1)\n",
    "            cv2.putText(im,\"{} {:10.4f}\".format(cls,sc),(x1,y1+10),cv2.FONT_HERSHEY_COMPLEX,0.4,(255,0,0))\n",
    "        im += (128*seg_im).astype(np.uint8)\n",
    "        cv2.imshow('lol',im)\n",
    "        cv2.imwrite(pjoin(\"/data/Mask_RCNN/output\",k.split('/')[-1]), im)\n",
    "        cv2.waitKey(1000)\n",
    "except e:\n",
    "    print(e)\n",
    "    pass"
   ]
  },
  {
   "cell_type": "code",
   "execution_count": null,
   "metadata": {},
   "outputs": [],
   "source": [
    ""
   ]
  }
 ],
 "metadata": {
  "kernelspec": {
   "display_name": "Python 2",
   "language": "python",
   "name": "python2"
  },
  "language_info": {
   "codemirror_mode": {
    "name": "ipython",
    "version": 2.0
   },
   "file_extension": ".py",
   "mimetype": "text/x-python",
   "name": "python",
   "nbconvert_exporter": "python",
   "pygments_lexer": "ipython2",
   "version": "2.7.6"
  }
 },
 "nbformat": 4,
 "nbformat_minor": 0
}